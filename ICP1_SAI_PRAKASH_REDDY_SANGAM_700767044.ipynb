{
 "cells": [
  {
   "cell_type": "code",
   "execution_count": 2,
   "id": "815b8fb0",
   "metadata": {},
   "outputs": [
    {
     "name": "stdout",
     "output_type": "stream",
     "text": [
      "python\n",
      "python\n"
     ]
    }
   ],
   "source": [
    "word=input() # just to run and check \n",
    "print(word)"
   ]
  },
  {
   "cell_type": "code",
   "execution_count": 1,
   "id": "e4d62197",
   "metadata": {},
   "outputs": [
    {
     "name": "stdout",
     "output_type": "stream",
     "text": [
      "python\n",
      "otnh\n",
      "otnh\n"
     ]
    }
   ],
   "source": [
    "\"'Input the string “Python” as a list of characters from console, delete at least 2 characters, reverse the resultantstring and print it.'\"\n",
    "import random\n",
    "word = input()\n",
    "char = list(word)\n",
    "del char[:2]        # if we delete first two letter and perform shuffle\n",
    "random.shuffle(char)\n",
    "result_string = \"\".join(char)\n",
    "print(result_string.replace(\" \",\"\"))\n"
   ]
  },
  {
   "cell_type": "code",
   "execution_count": 5,
   "id": "e2c36380",
   "metadata": {},
   "outputs": [
    {
     "name": "stdout",
     "output_type": "stream",
     "text": [
      "python\n",
      "yonh\n"
     ]
    }
   ],
   "source": [
    "import random\n",
    "word = input()\n",
    "char = list(word)\n",
    "random.shuffle(char)  # if we use suffle first and delete next\n",
    "del char[:2]\n",
    "result_string = \"\".join(char)\n",
    "print(result_string.replace(\" \",\"\"))\n"
   ]
  },
  {
   "cell_type": "code",
   "execution_count": 6,
   "id": "93be56b6",
   "metadata": {},
   "outputs": [
    {
     "name": "stdout",
     "output_type": "stream",
     "text": [
      "10\n",
      "20\n",
      "30 -10 200 10\n"
     ]
    }
   ],
   "source": [
    "\"'Take two numbers from user and perform at least 4 arithmetic operations on them'\"\n",
    "A = int(input())\n",
    "B = int(input())\n",
    "print(A+B , A-B, A*B, A%B)\n"
   ]
  },
  {
   "cell_type": "code",
   "execution_count": 8,
   "id": "86831f4a",
   "metadata": {
    "scrolled": true
   },
   "outputs": [
    {
     "name": "stdout",
     "output_type": "stream",
     "text": [
      "enter the word: i love python\n",
      "i love pythons\n"
     ]
    }
   ],
   "source": [
    "\"'Write a program that accepts a sentence and replace each occurrence of ‘python’ with ‘pythons’'\"\n",
    "word= input(\"enter the word: \")\n",
    "changed_string= word.replace(\"python\", \"pythons\")\n",
    "print(changed_string)\n"
   ]
  },
  {
   "cell_type": "code",
   "execution_count": 10,
   "id": "d5caed5c",
   "metadata": {},
   "outputs": [
    {
     "name": "stdout",
     "output_type": "stream",
     "text": [
      "enter the value:90\n",
      "A\n"
     ]
    }
   ],
   "source": [
    "\"'Use the if statement conditions to write a program to print the letter grade based on an input class score. Use the grading scheme we are using in this class.'\"\n",
    "\n",
    "grade=int(input(\"enter the value:\"))\n",
    "if(grade>=100):\n",
    "    print(\"invalid number\")\n",
    "elif(grade>=90):\n",
    "    print(\"A\")\n",
    "elif(grade>=80):\n",
    "    print(\"B\")\n",
    "elif(grade>=70):\n",
    "    print(\"C\")\n",
    "elif(grade>=60):\n",
    "    print(\"D\")\n",
    "else:\n",
    "    print(\"F\")"
   ]
  }
 ],
 "metadata": {
  "kernelspec": {
   "display_name": "Python 3 (ipykernel)",
   "language": "python",
   "name": "python3"
  },
  "language_info": {
   "codemirror_mode": {
    "name": "ipython",
    "version": 3
   },
   "file_extension": ".py",
   "mimetype": "text/x-python",
   "name": "python",
   "nbconvert_exporter": "python",
   "pygments_lexer": "ipython3",
   "version": "3.11.5"
  }
 },
 "nbformat": 4,
 "nbformat_minor": 5
}
